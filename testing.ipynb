{
 "cells": [
  {
   "cell_type": "code",
   "execution_count": 1,
   "metadata": {},
   "outputs": [
    {
     "ename": "ModuleNotFoundError",
     "evalue": "No module named 'data_structures'",
     "output_type": "error",
     "traceback": [
      "\u001b[1;31m---------------------------------------------------------------------------\u001b[0m",
      "\u001b[1;31mModuleNotFoundError\u001b[0m                       Traceback (most recent call last)",
      "\u001b[1;32mhuimarco\\equityportfoliosim\\testing.ipynb Cell 1\u001b[0m line \u001b[0;36m1\n\u001b[1;32m----> <a href='vscode-notebook-cell://github/huimarco/equityportfoliosim/testing.ipynb#W1sdnNjb2RlLXZmcw%3D%3D?line=0'>1</a>\u001b[0m \u001b[39mfrom\u001b[39;00m \u001b[39mdata_structures\u001b[39;00m \u001b[39mimport\u001b[39;00m Signal, Portfolio\n",
      "\u001b[1;31mModuleNotFoundError\u001b[0m: No module named 'data_structures'"
     ]
    }
   ],
   "source": [
    "from data_structures import Signal, Portfolio"
   ]
  },
  {
   "cell_type": "code",
   "execution_count": null,
   "metadata": {},
   "outputs": [],
   "source": [
    "# set up\n",
    "temp = df[46:49]\n",
    "my_portfolio = Portfolio(5)\n",
    "\n",
    "# buy signals\n",
    "my_portfolio.buyFromDf(temp, 1)\n",
    "\n",
    "# check that they have been bought\n",
    "print('\\nAFTER FIRST BUY')\n",
    "my_portfolio.display()\n",
    "print('cash: ', str(my_portfolio.cash))\n",
    "\n",
    "\n",
    "# update price and value\n",
    "my_portfolio.updateMonthlyPrice()\n",
    "my_portfolio.updateMonthlyVal()\n",
    "\n",
    "# check that price and values have been updated\n",
    "print('\\nAFTER ONE PRICES AND VALUES UPDATE')\n",
    "my_portfolio.display()\n",
    "print('cash: ', str(my_portfolio.cash))\n",
    "\n",
    "# update price and value until expiry\n",
    "for i in range(153):\n",
    "    my_portfolio.updateMonthlyPrice()\n",
    "    my_portfolio.updateMonthlyVal()\n",
    "\n",
    "# check that price and values have been updated\n",
    "print('\\nAFTER MANY PRICES AND VALUES UPDATES')\n",
    "my_portfolio.display()\n",
    "print('cash: ', str(my_portfolio.cash))\n",
    "\n",
    "# dump expired\n",
    "my_portfolio.dumpExpired()\n",
    "\n",
    "# check that expired signals have been sold at last available price\n",
    "print('\\nAFTER EXPIRED DUMPED')\n",
    "my_portfolio.display()\n",
    "print('cash: ', str(my_portfolio.cash))\n",
    "\n",
    "# buy more signals\n",
    "temp = df[49:50]\n",
    "my_portfolio.buyFromDf(temp, 4)\n",
    "\n",
    "# check that cash is gone and oldest stock has been replaced\n",
    "print('\\nAFTER ANOTHER BUY')\n",
    "my_portfolio.display()\n",
    "print('cash: ', str(my_portfolio.cash))"
   ]
  }
 ],
 "metadata": {
  "kernelspec": {
   "display_name": "Python 3",
   "language": "python",
   "name": "python3"
  },
  "language_info": {
   "codemirror_mode": {
    "name": "ipython",
    "version": 3
   },
   "file_extension": ".py",
   "mimetype": "text/x-python",
   "name": "python",
   "nbconvert_exporter": "python",
   "pygments_lexer": "ipython3",
   "version": "3.11.4"
  }
 },
 "nbformat": 4,
 "nbformat_minor": 2
}
