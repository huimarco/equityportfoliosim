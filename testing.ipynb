{
 "cells": [
  {
   "cell_type": "code",
   "execution_count": 44,
   "metadata": {},
   "outputs": [],
   "source": [
    "# import libraries\n",
    "import pandas as pd\n",
    "import numpy as np\n",
    "from datetime import datetime, timedelta\n",
    "import seaborn as sns\n",
    "import matplotlib.pyplot as plt\n",
    "\n",
    "from data_structures import Signal, Portfolio"
   ]
  },
  {
   "cell_type": "markdown",
   "metadata": {},
   "source": [
    "### Understanding Price Movements"
   ]
  },
  {
   "cell_type": "code",
   "execution_count": null,
   "metadata": {},
   "outputs": [],
   "source": [
    "df = pd.read_excel(r'C:\\Users\\MarcoHui\\Desktop\\SimulatorData 50ATS OLD VERSION 35.xlsx', sheet_name='prices', skiprows=1, usecols=\"A,E,K:CRO\")\n",
    "\n",
    "# reduce signals to improve plot readability\n",
    "df = df.head(50)"
   ]
  },
  {
   "cell_type": "code",
   "execution_count": null,
   "metadata": {},
   "outputs": [],
   "source": [
    "value_vars = df.columns[3:]\n",
    "temp = pd.melt(df, id_vars='SourceDateNam', value_vars=value_vars, var_name='Days After Signal Date', value_name='Price')\n",
    "\n",
    "fig, ax = plt.subplots(figsize=(80, 10))\n",
    "\n",
    "plot = sns.lineplot(\n",
    "    data=temp,\n",
    "    x='Days After Signal Date',\n",
    "    y='Price',\n",
    "    hue='SourceDateNam',\n",
    "    ax=ax\n",
    ")"
   ]
  },
  {
   "cell_type": "markdown",
   "metadata": {},
   "source": [
    "### Testing Portfolio Simulator Mechanisms"
   ]
  },
  {
   "cell_type": "code",
   "execution_count": 43,
   "metadata": {},
   "outputs": [
    {
     "name": "stdout",
     "output_type": "stream",
     "text": [
      "\n",
      "AFTER FIRST BUY\n",
      "jna34139817The    pricelast: na    priceprev/now/next: 33.71921 33.83364 33.66199    growth: 0    val: 1\n",
      "zach72139818thi    pricelast: 10.45    priceprev/now/next: 5.9 5.98 5.65    growth: 0    val: 1\n",
      "jna34139819GOO    pricelast: na    priceprev/now/next: 8.3515 8.05025 8.12975    growth: 0    val: 1\n",
      "cash:  2\n",
      "\n",
      "AFTER ONE PRICES AND VALUES UPDATE\n",
      "jna34139817The    pricelast: na    priceprev/now/next: 33.83364 33.66199 33.29962    growth: -0.005073353029706518    val: 0.9949266469702935\n",
      "zach72139818thi    pricelast: 10.45    priceprev/now/next: 5.98 5.65 8.34    growth: -0.05518394648829432    val: 0.9448160535117057\n",
      "jna34139819GOO    pricelast: na    priceprev/now/next: 8.05025 8.12975 7.87675    growth: 0.009875469705909688    val: 1.0098754697059096\n",
      "cash:  2\n",
      "\n",
      "AFTER MANY PRICES AND VALUES UPDATES\n",
      "jna34139817The    pricelast: na    priceprev/now/next: 39.92712 39.85084 39.85084    growth: -0.0019104808961929666    val: 1.1778466638528993\n",
      "zach72139818thi    pricelast: 10.45    priceprev/now/next: 10.45 10.45 0.0    growth: 0.0    val: 1.7474916387959876\n",
      "jna34139819GOO    pricelast: na    priceprev/now/next: 10.621 10.621 10.41925    growth: 0.0    val: 1.319337908760597\n",
      "cash:  2\n",
      "\n",
      "WHAT WE DUMPED\n",
      "[[Timestamp('2009-01-10 00:00:00'), 5.98, 10.45, 1.7474916387959876]]\n",
      "\n",
      "AFTER EXPIRED DUMPED\n",
      "jna34139817The    pricelast: na    priceprev/now/next: 39.92712 39.85084 39.85084    growth: -0.0019104808961929666    val: 1.1778466638528993\n",
      "jna34139819GOO    pricelast: na    priceprev/now/next: 10.621 10.621 10.41925    growth: 0.0    val: 1.319337908760597\n",
      "cash:  3.747491638795988\n",
      "\n",
      "AFTER ANOTHER BUY\n",
      "jna34139817The    pricelast: na    priceprev/now/next: 39.92712 39.85084 39.85084    growth: -0.0019104808961929666    val: 0.9253383026488871\n",
      "jna34139819GOO    pricelast: na    priceprev/now/next: 10.621 10.621 10.41925    growth: 0.0    val: 1.319337908760597\n",
      "fw5139870Sot    pricelast: 56.99    priceprev/now/next: 5.6758 5.6255 5.6255    growth: 0    val: 4\n",
      "cash:  0.0\n",
      "\n",
      "WHAT WE SOLD TO FUND NEW SIGNAL\n",
      "[[Timestamp('2009-01-10 00:00:00'), 5.98, 10.45, 1.7474916387959876], [Timestamp('2009-01-09 00:00:00'), 33.83364, 39.85084, 0.2525083612040122]]\n"
     ]
    }
   ],
   "source": [
    "# set up\n",
    "temp = df[46:49]\n",
    "my_portfolio = Portfolio(5)\n",
    "\n",
    "# buy signals\n",
    "my_portfolio.buyFromDf(temp, 1)\n",
    "\n",
    "# check that they have been bought\n",
    "print('\\nAFTER FIRST BUY')\n",
    "my_portfolio.display()\n",
    "print('cash: ', str(my_portfolio.cash))\n",
    "\n",
    "\n",
    "# update price and value\n",
    "my_portfolio.updateMonthlyPrice()\n",
    "my_portfolio.updateMonthlyVal()\n",
    "\n",
    "# check that price and values have been updated\n",
    "print('\\nAFTER ONE PRICES AND VALUES UPDATE')\n",
    "my_portfolio.display()\n",
    "print('cash: ', str(my_portfolio.cash))\n",
    "\n",
    "# update price and value until expiry\n",
    "for i in range(157):\n",
    "    my_portfolio.updateMonthlyPrice()\n",
    "    my_portfolio.updateMonthlyVal()\n",
    "\n",
    "# check that price and values have been updated\n",
    "print('\\nAFTER MANY PRICES AND VALUES UPDATES')\n",
    "my_portfolio.display()\n",
    "print('cash: ', str(my_portfolio.cash))\n",
    "\n",
    "# dump expired\n",
    "my_portfolio.dumpExpired()\n",
    "\n",
    "# print sell list\n",
    "print('\\nWHAT WE DUMPED')\n",
    "print(my_portfolio.solddf)\n",
    "\n",
    "# check that expired signals have been sold at last available price\n",
    "print('\\nAFTER EXPIRED DUMPED')\n",
    "my_portfolio.display()\n",
    "print('cash: ', str(my_portfolio.cash))\n",
    "\n",
    "# buy more signals\n",
    "temp = df[49:50]\n",
    "my_portfolio.buyFromDf(temp, 4)\n",
    "\n",
    "# check that cash is gone and oldest stock has been replaced\n",
    "print('\\nAFTER ANOTHER BUY')\n",
    "my_portfolio.display()\n",
    "print('cash: ', str(my_portfolio.cash))\n",
    "\n",
    "# print sell list\n",
    "print('\\nWHAT WE SOLD TO FUND NEW SIGNAL')\n",
    "print(my_portfolio.solddf)"
   ]
  }
 ],
 "metadata": {
  "kernelspec": {
   "display_name": "Python 3",
   "language": "python",
   "name": "python3"
  },
  "language_info": {
   "codemirror_mode": {
    "name": "ipython",
    "version": 3
   },
   "file_extension": ".py",
   "mimetype": "text/x-python",
   "name": "python",
   "nbconvert_exporter": "python",
   "pygments_lexer": "ipython3",
   "version": "3.11.4"
  }
 },
 "nbformat": 4,
 "nbformat_minor": 2
}
