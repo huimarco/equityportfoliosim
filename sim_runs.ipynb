{
 "cells": [
  {
   "cell_type": "code",
   "execution_count": 1,
   "metadata": {},
   "outputs": [],
   "source": [
    "import pandas as pd\n",
    "from portfolio_sim import runSim"
   ]
  },
  {
   "cell_type": "code",
   "execution_count": 2,
   "metadata": {},
   "outputs": [],
   "source": [
    "#inputs\n",
    "start_date = '2005-01-01'\n",
    "end_date = '2023-10-10'\n",
    "buy_size = 0.0215\n",
    "simple = True\n",
    "df_newsig = pd.read_excel(r\"C:\\Users\\marco\\Desktop\\PortfolioSim\\Data\\SimulatorData 50ATS.xlsx\", sheet_name='prices', skiprows=1)\n",
    "df_benchmarks = pd.read_excel(r\"C:\\Users\\marco\\Desktop\\PortfolioSim\\Data\\BenchmarkPrices.xlsx\", sheet_name='prices', skiprows=1)"
   ]
  },
  {
   "cell_type": "code",
   "execution_count": 4,
   "metadata": {},
   "outputs": [
    {
     "name": "stderr",
     "output_type": "stream",
     "text": [
      "100%|██████████| 6857/6857 [00:02<00:00, 2450.72it/s]\n"
     ]
    },
    {
     "data": {
      "text/plain": [
       "0.10858091298991401"
      ]
     },
     "execution_count": 4,
     "metadata": {},
     "output_type": "execute_result"
    }
   ],
   "source": [
    "df_newsig_s = df_newsig.drop([0, 1, 2, 3], axis=1)\n",
    "runSim(df_newsig_s, df_benchmarks, start_date, end_date, buy_size, simple, 5)"
   ]
  },
  {
   "cell_type": "code",
   "execution_count": null,
   "metadata": {},
   "outputs": [],
   "source": [
    "maxlag = 10\n",
    "\n",
    "for i in range(1,maxlag+1):\n",
    "    # Ensure pricing data starts n days after signal post (so we have previous price data on day one)\n",
    "    df_newsig_s = df_newsig.drop(list(range(i-1)), axis=1)\n",
    "\n",
    "    output = runSim(df_newsig, df_benchmarks, start_date, end_date, buy_size, simple, i)\n",
    "    print(str(i) + ': ' + str(output))"
   ]
  }
 ],
 "metadata": {
  "kernelspec": {
   "display_name": "Python 3",
   "language": "python",
   "name": "python3"
  },
  "language_info": {
   "codemirror_mode": {
    "name": "ipython",
    "version": 3
   },
   "file_extension": ".py",
   "mimetype": "text/x-python",
   "name": "python",
   "nbconvert_exporter": "python",
   "pygments_lexer": "ipython3",
   "version": "3.11.5"
  }
 },
 "nbformat": 4,
 "nbformat_minor": 2
}
